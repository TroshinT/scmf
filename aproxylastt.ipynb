{
 "cells": [
  {
   "cell_type": "markdown",
   "metadata": {},
   "source": [
    "# Аппроксимация данных. Радиоактивный распад"
   ]
  },
  {
   "cell_type": "markdown",
   "metadata": {},
   "source": [
    "### Условия задания:\n"
   ]
  },
  {
   "cell_type": "markdown",
   "metadata": {},
   "source": [
    "Закон радиоактивного распада, открытый Э.Резерфордом и ф.Содди, утверждает, что активность рпадиоактивного вещетсва уменьшается во временеи по экспоненциальному закону (геометрический прогрессии). Таким образом , активность такого вещества можно характеризовать периодом полураспада - промежутком времени, в течении которого активность уменьшается в 2 раза. Здесь мы приводим данные, опубликованныев работе {Rutherford.E A Radioactivee Substance emitted from Compounds // Philosophical Magazine} Из сосуда с торием был выкачан воздух. В результате была выделена эмананция тория(газ радон-22-, или торон). Для измерения ее ионизирующей способности подавалось напряжение 100В и измерялась сила тока, которая менялась во времени."
   ]
  },
  {
   "cell_type": "code",
   "execution_count": 1,
   "metadata": {},
   "outputs": [],
   "source": [
    "import numpy as np \n",
    "import matplotlib.pyplot as plt \n",
    "%matplotlib inline \n",
    "from scipy import linalg"
   ]
  },
  {
   "cell_type": "markdown",
   "metadata": {},
   "source": [
    "## Начало работы"
   ]
  },
  {
   "cell_type": "markdown",
   "metadata": {},
   "source": [
    "Создадим два массива x(время) и у(сила тока), хранящие в себе 8 элементов , и построим график по этим данным"
   ]
  },
  {
   "cell_type": "code",
   "execution_count": 2,
   "metadata": {},
   "outputs": [
    {
     "data": {
      "image/png": "[encoded data removed]",
      "text/plain": [
       "<Figure size 432x288 with 1 Axes>"
      ]
     },
     "metadata": {
      "needs_background": "light"
     },
     "output_type": "display_data"
    }
   ],
   "source": [
    "x = np.array([  0.000000000001, 28, 62, 118, 155, 210, 272, 360 ])\n",
    "y = np.array([  1.00, 0.69, 0.51, 0.23, 0.14, 0.067, 0.041, 0.018 ])\n",
    "plt.plot(x, y, 'o', color='tab:blue')\n",
    "plt.plot(x, y)\n",
    "plt.grid()\n",
    "pass"
   ]
  },
  {
   "cell_type": "markdown",
   "metadata": {},
   "source": [
    "Нам нужно восстановить зависимость $y=ce^{\\alpha t}$ с помощью метода наименьших квадаратов. $t$ у нас отвечает за время, то есть массив $Х$.\n",
    "Прологарифмировав данную функцию по основания $e$, мы полкучили функцию:$\\ln y = \\alpha t + \\ln c$ \n",
    "\n",
    " $Y = \\ln y$, а $\\ln c = \\beta$ , то есть $Y = \\alpha t+\\beta$., с помощью метода наименьших квадратов мы найдем неизвестные $\\alpha$ и $\\beta$"
   ]
  },
  {
   "cell_type": "code",
   "execution_count": 4,
   "metadata": {},
   "outputs": [
    {
     "data": {
      "text/plain": [
       "(-0.07535205973302031, -0.011445651432512177)"
      ]
     },
     "execution_count": 4,
     "metadata": {},
     "output_type": "execute_result"
    }
   ],
   "source": [
    "log_y=np.log(y)\n",
    "m = len(x)\n",
    "X = np.stack((np.ones(m), x)).T\n",
    "beta, residuals, rank, sv = linalg.lstsq(X, log_y)\n",
    "beta0, beta1 = beta\n",
    "beta0, beta1"
   ]
  },
  {
   "cell_type": "markdown",
   "metadata": {},
   "source": [
    "Мы получили $\\alpha$ и $\\beta$. Так как $\\beta=\\ln c$, необходимо найти $c=e^\\beta$, а далее подставить $c$ и $\\alpha$ в исходную зависимость $y=ce^{\\alpha t}$ и вычислить результат."
   ]
  },
  {
   "cell_type": "code",
   "execution_count": 6,
   "metadata": {},
   "outputs": [
    {
     "data": {
      "image/png": "[encoded data removed]",
      "text/plain": [
       "<Figure size 432x288 with 1 Axes>"
      ]
     },
     "metadata": {
      "needs_background": "light"
     },
     "output_type": "display_data"
    }
   ],
   "source": [
    "y_fit = np.exp(-0.07535205973302031)*np.exp(-0.011445651432512177*x)\n",
    "plt.plot(x, y, 'o')\n",
    "plt.plot(x, y, color = 'blue', label = 'Original')\n",
    "plt.plot(x, y_fit, color = 'red', label = 'Restored')\n",
    "plt.legend()\n",
    "plt.grid()\n",
    "pass"
   ]
  },
  {
   "cell_type": "markdown",
   "metadata": {},
   "source": [
    "Найдем погрешность данных двух графиков"
   ]
  },
  {
   "cell_type": "code",
   "execution_count": 8,
   "metadata": {},
   "outputs": [
    {
     "data": {
      "text/plain": [
       "0.009153418966215104"
      ]
     },
     "execution_count": 8,
     "metadata": {},
     "output_type": "execute_result"
    }
   ],
   "source": [
    "sum((y_fit-y)**2)"
   ]
  },
  {
   "cell_type": "markdown",
   "metadata": {},
   "source": [
    "Как мы видим погрешность очень миинимальна, но она есть, значит, возможно, наши вычесления будут несколько отличаться от данных в интернете\n",
    "\n",
    "## Радон-220\n",
    "Радо́н-220, историческое название торо́н (лат. Thoron, обозначается символом Tn), также известный как эманация тория (лат. Thorii Emanatio, обозначается символом ThEm) — радиоактивный нуклид химического элемента радона с атомным номером 86 и массовым числом 220. Имеет период полураспада 55,6(1) с."
   ]
  },
  {
   "cell_type": "markdown",
   "metadata": {},
   "source": [
    "Периодом полураспада \n",
    "$T$\n",
    " радиоактивного материала называется время, необходимое для распада половины первоначального количества вещества. Следовательно, в момент $T$\n",
    "$N_0/2=N_0e^{-\\lambda T}$. \n",
    "Формула, как мы видим , имеет похожий вид, что есть у нас. $N_0/2=N_0e^{-\\lambda T}$ == $y=ce^{\\alpha t}$\n",
    "Из данной формулы следует , что  $\\lambda=-\\alpha$, $\\lambda=0.011445651432512177\n",
    "\n",
    "Найдем свой период полураспада Радона-220по формуле $T=\\ln2/\\lambda$"
   ]
  },
  {
   "cell_type": "code",
   "execution_count": 12,
   "metadata": {},
   "outputs": [
    {
     "data": {
      "text/plain": [
       "60.55987155008164"
      ]
     },
     "execution_count": 12,
     "metadata": {},
     "output_type": "execute_result"
    }
   ],
   "source": [
    "T=np.log(2)/0.011445651432512177\n",
    "T"
   ]
  },
  {
   "cell_type": "markdown",
   "metadata": {},
   "source": [
    "Мы получили период полураспада посчитанный нами, он равен $60.55987155008164$. Данные найденные на сайте Википедия показывают, что период полураспада Радона-220 равен $55,6(1) с$. Данные имеет отличие не существенное, но имееют. Чем это может быть вызвано? Впервую очередь,потому что была почитана погрешность, которая повлияла на исход. Так же, возможно метод, использованный нами, более упрощенный и общий, нежели тот, что использовали в интернете при подсчете. Возможно , где то была упрощена или не точно посчитана формула или функция. Но в итоге , мы получили ответ, близко приближенный к реальному."
   ]
  }
 ],
 "metadata": {
  "kernelspec": {
   "display_name": "Python 3",
   "language": "python",
   "name": "python3"
  },
  "language_info": {
   "codemirror_mode": {
    "name": "ipython",
    "version": 3
   },
   "file_extension": ".py",
   "mimetype": "text/x-python",
   "name": "python",
   "nbconvert_exporter": "python",
   "pygments_lexer": "ipython3",
   "version": "3.7.6"
  }
 },
 "nbformat": 4,
 "nbformat_minor": 4
}
